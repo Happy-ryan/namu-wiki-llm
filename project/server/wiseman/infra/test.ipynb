{
 "cells": [
  {
   "cell_type": "code",
   "execution_count": 5,
   "metadata": {},
   "outputs": [],
   "source": [
    "import httpx, yaml\n",
    "from fastapi import HTTPException\n",
    "\n",
    "class WisemanClient:\n",
    "    \n",
    "    def __init__(self, config_path: str):\n",
    "        \n",
    "        with open(config_path) as f:\n",
    "            self.conf = yaml.safe_load(f)\n",
    "\n",
    "        self.OPENAI_API_URL = self.conf[\"OPENAI_API\"][\"URL\"]\n",
    "        self.OPENAI_API_KEY = self.conf[\"OPENAI_API\"][\"KEY\"]\n",
    "        self.OPENAI_API_MODEL = self.conf[\"OPENAI_API\"][\"MODEL\"]\n",
    "    \n",
    "\n",
    "    async def get_GPT_answer(self, text: str):\n",
    "        async with httpx.AsyncClient() as client:\n",
    "            print(\"GPT Client \")\n",
    "            response = await client.post(\n",
    "                self.OPENAI_API_URL,\n",
    "                headers={\"Authorization\": f\"Bearer {self.OPENAI_API_KEY}\"},\n",
    "                json={\"model\": self.OPENAI_API_MODEL,\n",
    "                    \"messages\": [\n",
    "                        {\"role\": \"user\",\n",
    "                        \"content\": text}\n",
    "                    ]},\n",
    "                timeout=None\n",
    "            )\n",
    "            \n",
    "            if response.status_code != 200:\n",
    "                raise HTTPException(status_code=response.status_code,\n",
    "                                    detail=\"[ERROR] WisemanClient!\")\n",
    "                \n",
    "            GPT_answer = response.json()['choices'][0]['message']['content']\n",
    "            \n",
    "            return GPT_answer"
   ]
  },
  {
   "cell_type": "code",
   "execution_count": 6,
   "metadata": {},
   "outputs": [],
   "source": [
    "wiseman_client = WisemanClient(\"../config.yaml\")"
   ]
  },
  {
   "cell_type": "code",
   "execution_count": 9,
   "metadata": {},
   "outputs": [
    {
     "name": "stdout",
     "output_type": "stream",
     "text": [
      "GPT Client \n",
      "현재 서울에서 가장 높은 건물은 555m인 롯데월드타워입니다.\n"
     ]
    }
   ],
   "source": [
    "res = await wiseman_client.get_GPT_answer(\"서울에 가장 높은 건물은 뭐야?\")\n",
    "# {'id': 'chatcmpl-8fstVURGhLs8DuPpbPoPG2SXwFTtF',\n",
    "# 'object': 'chat.completion',\n",
    "# 'created': 1704993153,\n",
    "# 'model': 'gpt-3.5-turbo-0613',\n",
    "# 'choices': [{'index': 0, 'message': {'role': 'assistant', 'content': '현재 서울에 가장 높은 건물은 롯데월드타워입니다. 롯데월드타워는 높이 555m로 대한민국에서 가장 높은 랜드마크 건물이며, 다양한 상업시설과 호텔로 이루어져 있습니다.'},\n",
    "# 'logprobs': None, 'finish_reason': 'stop'}],\n",
    "# 'usage': {'prompt_tokens': 27, 'completion_tokens': 104, 'total_tokens': 131},\n",
    "# 'system_fingerprint': None}\n",
    "print(res['choices'][0]['message']['content'])"
   ]
  },
  {
   "cell_type": "code",
   "execution_count": null,
   "metadata": {},
   "outputs": [],
   "source": []
  }
 ],
 "metadata": {
  "kernelspec": {
   "display_name": "namu",
   "language": "python",
   "name": "python3"
  },
  "language_info": {
   "codemirror_mode": {
    "name": "ipython",
    "version": 3
   },
   "file_extension": ".py",
   "mimetype": "text/x-python",
   "name": "python",
   "nbconvert_exporter": "python",
   "pygments_lexer": "ipython3",
   "version": "3.9.16"
  }
 },
 "nbformat": 4,
 "nbformat_minor": 2
}
